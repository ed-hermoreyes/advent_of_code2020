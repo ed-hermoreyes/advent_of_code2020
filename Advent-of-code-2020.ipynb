{
 "cells": [
  {
   "cell_type": "markdown",
   "metadata": {},
   "source": [
    "# Advent of code 2020"
   ]
  },
  {
   "cell_type": "markdown",
   "metadata": {},
   "source": [
    "## Day 1 - Puzzle 1"
   ]
  },
  {
   "cell_type": "code",
   "execution_count": 1,
   "metadata": {},
   "outputs": [
    {
     "name": "stdout",
     "output_type": "stream",
     "text": [
      "866436\n"
     ]
    }
   ],
   "source": [
    "from itertools import combinations_with_replacement\n",
    "from math import prod\n",
    "file = \"day1input\"\n",
    "input_content = open(file, \"r\")\n",
    "input_vals = [int(str_val) for str_val in input_content.read().splitlines()]\n",
    "answer = [prod(p) for p in list(combinations_with_replacement(input_vals, 2)) if sum(p) == 2020]\n",
    "for ans in answer:\n",
    "    print(ans)"
   ]
  },
  {
   "cell_type": "markdown",
   "metadata": {},
   "source": [
    "## Day 1 - Puzzle 2"
   ]
  },
  {
   "cell_type": "code",
   "execution_count": 2,
   "metadata": {},
   "outputs": [
    {
     "name": "stdout",
     "output_type": "stream",
     "text": [
      "276650720\n"
     ]
    }
   ],
   "source": [
    "answer = [prod(p) for p in list(combinations_with_replacement(input_vals, 3)) if sum(p) == 2020]\n",
    "for ans in answer:\n",
    "    print(ans)\n"
   ]
  },
  {
   "cell_type": "markdown",
   "metadata": {},
   "source": [
    "## Day 2 - Puzzle 1"
   ]
  },
  {
   "cell_type": "code",
   "execution_count": 3,
   "metadata": {},
   "outputs": [
    {
     "name": "stdout",
     "output_type": "stream",
     "text": [
      "458\n"
     ]
    }
   ],
   "source": [
    "import re\n",
    "file = \"day2input\"\n",
    "input_content = open(file, \"r\")\n",
    "input_lines = [re.split('[: \\-]', line.strip()) for line in input_content.read().splitlines()]\n",
    "counter = [int(p[0]) <= len([i for i, ch in enumerate(p[4]) if ch == p[2]]) <= int(p[1]) for p in input_lines]\n",
    "valid_pss = [c == True for c in counter]\n",
    "print(sum(valid_pss))\n"
   ]
  },
  {
   "cell_type": "markdown",
   "metadata": {},
   "source": [
    "## Day 2 - Puzzle 2"
   ]
  },
  {
   "cell_type": "code",
   "execution_count": 4,
   "metadata": {},
   "outputs": [
    {
     "name": "stdout",
     "output_type": "stream",
     "text": [
      "342\n"
     ]
    }
   ],
   "source": [
    "counter = [[int(p[0])-1, int(p[1])-1, [i for i, ch in enumerate(p[4]) if ch == p[2]]] for p in input_lines]\n",
    "valid_pss = [c for c in counter if c[0] in c[2] or c[1] in c[2]]\n",
    "valid_pss2 = [c for c in valid_pss if c[0] not in c[2] or c[1] not in c[2]]\n",
    "print(len(valid_pss2))\n"
   ]
  },
  {
   "cell_type": "markdown",
   "metadata": {},
   "source": [
    "## Day 3 - Puzzle 1"
   ]
  },
  {
   "cell_type": "code",
   "execution_count": 1,
   "metadata": {},
   "outputs": [
    {
     "name": "stdout",
     "output_type": "stream",
     "text": [
      "240\n"
     ]
    }
   ],
   "source": [
    "file = \"day3input\"\n",
    "input_content = open(file, \"r\")\n",
    "stripped_map = [line for line in input_content.read().splitlines()]\n",
    "trees = [stripped_map[i][(i*3) % len(stripped_map[0])] == \"#\" for i in range(len(stripped_map))]\n",
    "print(sum(trees))"
   ]
  },
  {
   "cell_type": "markdown",
   "metadata": {},
   "source": [
    "## Day 3 - Puzzle 2"
   ]
  },
  {
   "cell_type": "code",
   "execution_count": 2,
   "metadata": {},
   "outputs": [
    {
     "name": "stdout",
     "output_type": "stream",
     "text": [
      "2832009600\n"
     ]
    }
   ],
   "source": [
    "import numpy as np\n",
    "coord = [(1,1),(1,3),(1,5),(1,7),(2,1)]\n",
    "long = len(stripped_map[0])\n",
    "trs_accum = []\n",
    "for c in coord:\n",
    "    total = sum([stripped_map[i][int(((i/c[0])*c[1]) % len(stripped_map[0]))] == \"#\"\\\n",
    "                 for i in range(0,len(stripped_map),c[0])])\n",
    "    trs_accum.append(total)\n",
    "print(np.product(trs_accum))"
   ]
  }
 ],
 "metadata": {
  "kernelspec": {
   "display_name": "Python 3",
   "language": "python",
   "name": "python3"
  },
  "language_info": {
   "codemirror_mode": {
    "name": "ipython",
    "version": 3
   },
   "file_extension": ".py",
   "mimetype": "text/x-python",
   "name": "python",
   "nbconvert_exporter": "python",
   "pygments_lexer": "ipython3",
   "version": "3.8.5"
  }
 },
 "nbformat": 4,
 "nbformat_minor": 4
}
